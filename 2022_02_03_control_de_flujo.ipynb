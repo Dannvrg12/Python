{
  "cells": [
    {
      "cell_type": "markdown",
      "metadata": {
        "id": "view-in-github",
        "colab_type": "text"
      },
      "source": [
        "<a href=\"https://colab.research.google.com/github/Dannvrg12/Python/blob/main/2022_02_03_control_de_flujo.ipynb\" target=\"_parent\"><img src=\"https://colab.research.google.com/assets/colab-badge.svg\" alt=\"Open In Colab\"/></a>"
      ]
    },
    {
      "cell_type": "markdown",
      "metadata": {
        "id": "uUmz46rcCvy8"
      },
      "source": [
        "Control de flujo\n",
        "================\n",
        "\n",
        "**Date:** 2022-02-03\n",
        "\n"
      ]
    },
    {
      "cell_type": "markdown",
      "metadata": {
        "id": "rDmFop4fCvy-"
      },
      "source": [
        "## Control de flujo\n",
        "\n"
      ]
    },
    {
      "cell_type": "markdown",
      "metadata": {
        "id": "5Tw25UTJCvy_"
      },
      "source": [
        "### `if`\n",
        "\n"
      ]
    },
    {
      "cell_type": "code",
      "execution_count": 1,
      "metadata": {
        "colab": {
          "base_uri": "https://localhost:8080/"
        },
        "id": "t7FOSNXjCvzA",
        "outputId": "ed5bb34e-e9de-4505-a197-5a9b43530ce1"
      },
      "outputs": [
        {
          "output_type": "execute_result",
          "data": {
            "text/plain": [
              "['Juan Diego', 'Verania', 'Rosa', 'Yessica', 'Karen', 'Uriel', 'Ruth']"
            ]
          },
          "metadata": {},
          "execution_count": 1
        }
      ],
      "source": [
        "inscritos = [\"Juan Diego\", \"Verania\", \"Rosa\", \"Yessica\", \"Karen\"]\n",
        "oyentes = [\"Uriel\", \"Ruth\"]\n",
        "estudiantes = inscritos + oyentes\n",
        "estudiantes"
      ]
    },
    {
      "cell_type": "code",
      "execution_count": 2,
      "metadata": {
        "colab": {
          "base_uri": "https://localhost:8080/"
        },
        "id": "_u0UPoUDCvzB",
        "outputId": "be68254e-e0d6-486f-8bd8-324c8a7f8eac"
      },
      "outputs": [
        {
          "output_type": "stream",
          "name": "stdout",
          "text": [
            "Son muchos estudiantes\n"
          ]
        }
      ],
      "source": [
        "if len(estudiantes) > 5:\n",
        "    print(\"Son muchos estudiantes\")"
      ]
    },
    {
      "cell_type": "code",
      "execution_count": 3,
      "metadata": {
        "colab": {
          "base_uri": "https://localhost:8080/"
        },
        "id": "cVV2Ecq_CvzB",
        "outputId": "67dd5b6f-772c-430e-b82f-4c79fb2ac6bd"
      },
      "outputs": [
        {
          "output_type": "stream",
          "name": "stdout",
          "text": [
            "Son pocos estudiantes. Ojalá entren oyentes\n"
          ]
        }
      ],
      "source": [
        "if len(estudiantes) > 10:\n",
        "    print(\"Son muchos estudiantes\")\n",
        "else:\n",
        "    print(\"Son pocos estudiantes\", end=\". \")\n",
        "    print(\"Ojalá entren oyentes\")"
      ]
    },
    {
      "cell_type": "code",
      "execution_count": 4,
      "metadata": {
        "colab": {
          "base_uri": "https://localhost:8080/"
        },
        "id": "P-a-iSCGCvzB",
        "outputId": "cd7c73f5-499c-4a3b-8c05-94f76774add9"
      },
      "outputs": [
        {
          "output_type": "stream",
          "name": "stdout",
          "text": [
            "Son cuando mucho cinco estudiantes\n"
          ]
        }
      ],
      "source": [
        "if len(inscritos) <= 5:\n",
        "    print(\"Son cuando mucho cinco estudiantes\")\n",
        "elif len(inscritos) == 6:\n",
        "    print(\"Son seis estudiantes\")\n",
        "else:\n",
        "    print(\"Son muchos estudiantes\", end=\". \")\n",
        "    print(\"Ojalá no entren oyentes\")"
      ]
    },
    {
      "cell_type": "markdown",
      "metadata": {
        "id": "_y5EdtaZCvzC"
      },
      "source": [
        "### `for`\n",
        "\n"
      ]
    },
    {
      "cell_type": "code",
      "execution_count": 5,
      "metadata": {
        "colab": {
          "base_uri": "https://localhost:8080/"
        },
        "id": "Xvq3tcOrCvzC",
        "outputId": "7202906c-2887-42b0-e4bf-e9f158efb87c"
      },
      "outputs": [
        {
          "output_type": "stream",
          "name": "stdout",
          "text": [
            "Hola Juan Diego ¿Cómo estás?\n",
            "Hola Verania ¿Cómo estás?\n",
            "Hola Rosa ¿Cómo estás?\n",
            "Hola Yessica ¿Cómo estás?\n",
            "Hola Karen ¿Cómo estás?\n",
            "Hola Uriel ¿Cómo estás?\n",
            "Hola Ruth ¿Cómo estás?\n"
          ]
        }
      ],
      "source": [
        "for estudiante in estudiantes:\n",
        "    print(\"Hola\", estudiante, \"¿Cómo estás?\")"
      ]
    },
    {
      "cell_type": "code",
      "execution_count": 6,
      "metadata": {
        "colab": {
          "base_uri": "https://localhost:8080/"
        },
        "id": "8gvEClS3CvzD",
        "outputId": "b44cba02-13d5-4b17-f732-843b9c9465c9"
      },
      "outputs": [
        {
          "output_type": "stream",
          "name": "stdout",
          "text": [
            "Hola Juan Diego\n",
            "Hola Verania\n",
            "Hola Rosa\n",
            "Hola Yessica\n",
            "Hola Karen\n",
            "Hola Uriel\n",
            "Hola Ruth\n"
          ]
        }
      ],
      "source": [
        "for i in range(len(estudiantes)):\n",
        "    print(\"Hola\", estudiantes[i])"
      ]
    },
    {
      "cell_type": "code",
      "execution_count": 7,
      "metadata": {
        "colab": {
          "base_uri": "https://localhost:8080/"
        },
        "id": "Yp_SQfLMCvzD",
        "outputId": "b9566b97-b7c2-46b0-8945-d637230beb55"
      },
      "outputs": [
        {
          "output_type": "stream",
          "name": "stdout",
          "text": [
            "3\n",
            "2\n",
            "1\n",
            "0\n",
            "Booom\n"
          ]
        }
      ],
      "source": [
        "for j in range(3, -1, -1):\n",
        "    print(j)\n",
        "    if j == 0:\n",
        "        print(\"Booom\")"
      ]
    },
    {
      "cell_type": "code",
      "execution_count": 8,
      "metadata": {
        "colab": {
          "base_uri": "https://localhost:8080/"
        },
        "id": "cmk4q9zfCvzE",
        "outputId": "4312fae1-4844-4825-bbbd-536ff9b53b0c"
      },
      "outputs": [
        {
          "output_type": "execute_result",
          "data": {
            "text/plain": [
              "range(0, 7897987978979779878979797987987979779797979)"
            ]
          },
          "metadata": {},
          "execution_count": 8
        }
      ],
      "source": [
        "range(7897987978979779878979797987987979779797979)"
      ]
    },
    {
      "cell_type": "markdown",
      "metadata": {
        "id": "jaJWy-rvCvzE"
      },
      "source": [
        "La suma de todos los números del 1 al 100.\n",
        "\n"
      ]
    },
    {
      "cell_type": "code",
      "execution_count": 9,
      "metadata": {
        "colab": {
          "base_uri": "https://localhost:8080/"
        },
        "id": "IpN9nYTeCvzE",
        "outputId": "6b784dad-8b10-4d9c-d1f5-3d9569e2f256"
      },
      "outputs": [
        {
          "output_type": "execute_result",
          "data": {
            "text/plain": [
              "5050"
            ]
          },
          "metadata": {},
          "execution_count": 9
        }
      ],
      "source": [
        "sum(range(101))"
      ]
    },
    {
      "cell_type": "markdown",
      "source": [
        "Un range tiene 3 elementos que son longitud,donde termina y la longitud de pasos\n"
      ],
      "metadata": {
        "id": "1OhyEBFRHqrW"
      }
    },
    {
      "cell_type": "code",
      "source": [
        "list(range(3,7))"
      ],
      "metadata": {
        "colab": {
          "base_uri": "https://localhost:8080/"
        },
        "id": "0rFCYJoFHs2y",
        "outputId": "02857db7-ef66-4512-d5cd-73340eeb2ea4"
      },
      "execution_count": 10,
      "outputs": [
        {
          "output_type": "execute_result",
          "data": {
            "text/plain": [
              "[3, 4, 5, 6]"
            ]
          },
          "metadata": {},
          "execution_count": 10
        }
      ]
    },
    {
      "cell_type": "markdown",
      "metadata": {
        "id": "AvnrXUn3CvzE"
      },
      "source": [
        "### break, continue y else en ciclos for\n",
        "\n"
      ]
    },
    {
      "cell_type": "markdown",
      "metadata": {
        "id": "WA_7tA77CvzF"
      },
      "source": [
        "#### break\n",
        "\n"
      ]
    },
    {
      "cell_type": "markdown",
      "metadata": {
        "id": "x0rbm2QmCvzF"
      },
      "source": [
        "`break` sirve para interrumpir un ciclo for.\n",
        "\n"
      ]
    },
    {
      "cell_type": "code",
      "execution_count": 11,
      "metadata": {
        "colab": {
          "base_uri": "https://localhost:8080/"
        },
        "id": "A-a4lkrkCvzF",
        "outputId": "16d1529a-ee87-471d-95db-7c38414b152e"
      },
      "outputs": [
        {
          "output_type": "stream",
          "name": "stdout",
          "text": [
            "Hola Juan Diego ¿Cómo estás?\n",
            "Hola Verania ¿Cómo estás?\n",
            "Hola Rosa ¿Cómo estás?\n",
            "Hola Yessica ¿Cómo estás?\n",
            "Hola Karen ¿Cómo estás?\n",
            "Ya saludé a los inscritos\n"
          ]
        }
      ],
      "source": [
        "for estudiante in estudiantes:\n",
        "    print(\"Hola\", estudiante, \"¿Cómo estás?\")\n",
        "    if estudiante == \"Karen\":\n",
        "        break\n",
        "\n",
        "print(\"Ya saludé a los inscritos\")"
      ]
    },
    {
      "cell_type": "markdown",
      "metadata": {
        "id": "Fg2Ic05OCvzF"
      },
      "source": [
        "#### else en un ciclo for\n",
        "\n"
      ]
    },
    {
      "cell_type": "markdown",
      "metadata": {
        "id": "Y2miUfSsCvzF"
      },
      "source": [
        "La cláusula `else` en un ciclo `for` se ejecuta cuando el ciclo `for` termina de manera \"natural\", sin haber pasado por una cláusula `break`.\n",
        "\n"
      ]
    },
    {
      "cell_type": "code",
      "execution_count": 16,
      "metadata": {
        "colab": {
          "base_uri": "https://localhost:8080/"
        },
        "id": "o6wCWi5KCvzG",
        "outputId": "9fee91d7-0ee6-4212-bc52-ccbf3fd00f5d"
      },
      "outputs": [
        {
          "output_type": "stream",
          "name": "stdout",
          "text": [
            "2 es un número primo\n",
            "3 es un número primo\n",
            "4 es igual a 2 * 2\n",
            "5 es un número primo\n",
            "6 es igual a 2 * 3\n",
            "7 es un número primo\n",
            "8 es igual a 2 * 4\n",
            "9 es igual a 3 * 3\n",
            "10 es igual a 2 * 5\n",
            "11 es un número primo\n",
            "12 es igual a 2 * 6\n",
            "13 es un número primo\n",
            "14 es igual a 2 * 7\n",
            "15 es igual a 3 * 5\n",
            "16 es igual a 2 * 8\n",
            "17 es un número primo\n",
            "18 es igual a 2 * 9\n",
            "19 es un número primo\n",
            "20 es igual a 2 * 10\n",
            "21 es igual a 3 * 7\n",
            "22 es igual a 2 * 11\n",
            "23 es un número primo\n",
            "24 es igual a 2 * 12\n",
            "25 es igual a 5 * 5\n",
            "26 es igual a 2 * 13\n",
            "27 es igual a 3 * 9\n",
            "28 es igual a 2 * 14\n",
            "29 es un número primo\n"
          ]
        }
      ],
      "source": [
        "for n in range(2, 30):\n",
        "    for x in range(2, n):\n",
        "        if n % x == 0:\n",
        "            print(n, 'es igual a', x, '*', n//x)\n",
        "            break\n",
        "    else:\n",
        "        # se terminó de checar posibles divisores sin encontrar uno\n",
        "        print(n, 'es un número primo')"
      ]
    },
    {
      "cell_type": "markdown",
      "metadata": {
        "id": "-YxjIXijCvzG"
      },
      "source": [
        "#### continue\n",
        "\n"
      ]
    },
    {
      "cell_type": "code",
      "execution_count": 17,
      "metadata": {
        "colab": {
          "base_uri": "https://localhost:8080/"
        },
        "id": "jFy5Ea3ZCvzG",
        "outputId": "91dff921-c5dc-429a-be00-a32135d65f68"
      },
      "outputs": [
        {
          "output_type": "stream",
          "name": "stdout",
          "text": [
            "Hola Juan Diego ¿Cómo estás?\n",
            "¿Qué materias estás llevando, Juan Diego ?\n",
            "Hola Verania ¿Cómo estás?\n",
            "¿Qué materias estás llevando, Verania ?\n",
            "Hola Rosa ¿Cómo estás?\n",
            "¿Qué materias estás llevando, Rosa ?\n",
            "Hola Yessica ¿Cómo estás?\n",
            "¿Qué materias estás llevando, Yessica ?\n",
            "Hola Karen ¿Cómo estás?\n",
            "¿Qué materias estás llevando, Karen ?\n",
            "Hola Uriel ¿Cómo estás?\n",
            "Hola Ruth ¿Cómo estás?\n"
          ]
        }
      ],
      "source": [
        "for estudiante in estudiantes:\n",
        "    print(\"Hola\", estudiante, \"¿Cómo estás?\")\n",
        "    if estudiante in [\"Uriel\", \"Ruth\"]:\n",
        "        continue\n",
        "    print(\"¿Qué materias estás llevando,\", estudiante,\"?\")"
      ]
    },
    {
      "cell_type": "markdown",
      "source": [
        "Si hay un brake detiene el for,si hay un continue procesa ese ultimo elemento y contimua en el siguiente\n"
      ],
      "metadata": {
        "id": "IiBB4klSLgeW"
      }
    },
    {
      "cell_type": "markdown",
      "metadata": {
        "id": "Z7iLmqjuCvzH"
      },
      "source": [
        "#### pass\n",
        "\n"
      ]
    },
    {
      "cell_type": "markdown",
      "metadata": {
        "id": "bNgtBloFCvzH"
      },
      "source": [
        "La claúsula `pass` no hace nada, pero puede servir para que un programa incompleto sea sintácticamente correcto.\n",
        "\n"
      ]
    },
    {
      "cell_type": "code",
      "execution_count": 14,
      "metadata": {
        "colab": {
          "base_uri": "https://localhost:8080/"
        },
        "id": "Lu79GzxQCvzH",
        "outputId": "2e9d999f-b61d-4b80-abae-61c00259925d"
      },
      "outputs": [
        {
          "output_type": "stream",
          "name": "stdout",
          "text": [
            "Hola Juan Diego ¿Cómo estás?\n",
            "Hola Verania ¿Cómo estás?\n",
            "Hola Rosa ¿Cómo estás?\n",
            "Hola Yessica ¿Cómo estás?\n",
            "Hola Karen ¿Cómo estás?\n",
            "Hola Uriel ¿Cómo estás?\n",
            "Hola Ruth ¿Cómo estás?\n"
          ]
        }
      ],
      "source": [
        "for estudiante in estudiantes:\n",
        "    print(\"Hola\", estudiante, \"¿Cómo estás?\")\n",
        "    if estudiante in [\"Uriel\", \"Ruth\"]:\n",
        "        pass"
      ]
    },
    {
      "cell_type": "code",
      "execution_count": 15,
      "metadata": {
        "colab": {
          "base_uri": "https://localhost:8080/"
        },
        "id": "5MsOrpMaCvzH",
        "outputId": "f12ece08-2337-4e1d-d0c7-7574851f34c7"
      },
      "outputs": [
        {
          "output_type": "stream",
          "name": "stdout",
          "text": [
            "Hola Juan Diego ¿Cómo estás?\n",
            "Hola Verania ¿Cómo estás?\n",
            "Hola Rosa ¿Cómo estás?\n",
            "Hola Yessica ¿Cómo estás?\n",
            "Hola Karen ¿Cómo estás?\n",
            "Hola Uriel ¿Cómo estás?\n",
            "Hola Uriel ¿Eres oyente?\n",
            "Hola Ruth ¿Cómo estás?\n",
            "Hola Ruth ¿Eres oyente?\n"
          ]
        }
      ],
      "source": [
        "for estudiante in estudiantes:\n",
        "    print(\"Hola\", estudiante, \"¿Cómo estás?\")\n",
        "    if estudiante in [\"Uriel\", \"Ruth\"]:\n",
        "        print(\"Hola\", estudiante, \"¿Eres oyente?\")"
      ]
    }
  ],
  "metadata": {
    "kernelspec": {
      "display_name": "Python 3",
      "language": "python",
      "name": "python3"
    },
    "language_info": {
      "codemirror_mode": {
        "name": "ipython",
        "version": 3
      },
      "file_extension": ".py",
      "mimetype": "text/x-python",
      "name": "python",
      "nbconvert_exporter": "python",
      "pygments_lexer": "ipython3",
      "version": "3.9.2"
    },
    "org": null,
    "colab": {
      "provenance": [],
      "include_colab_link": true
    }
  },
  "nbformat": 4,
  "nbformat_minor": 0
}